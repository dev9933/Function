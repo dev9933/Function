{
  "nbformat": 4,
  "nbformat_minor": 0,
  "metadata": {
    "colab": {
      "provenance": []
    },
    "kernelspec": {
      "name": "python3",
      "display_name": "Python 3"
    },
    "language_info": {
      "name": "python"
    }
  },
  "cells": [
    {
      "cell_type": "markdown",
      "source": [
        "# **Functions Assignment**"
      ],
      "metadata": {
        "id": "ipwOHoKM6oHS"
      }
    },
    {
      "cell_type": "markdown",
      "source": [
        "# **Theory questions**"
      ],
      "metadata": {
        "id": "nfcA7HcD-jQT"
      }
    },
    {
      "cell_type": "markdown",
      "source": [
        "1.What is the difference between a function and a method in Python?\n",
        "\n",
        ">Difference between Function and methods:\n",
        ">1. A function is an independent block of code, whereas a method is a function that is associated with an object or class.\n",
        ">2. A function can be called directly using its name, whereas a method is called using the object or class it belongs to.\n",
        ">3. A function does not automatically take self or cls as the first parameter, whereas a method automatically receives the object (self) or class (cls) as the first argument.\n",
        ">4. A function is defined outside of a class (unless manually placed inside), whereas a method is defined inside a class."
      ],
      "metadata": {
        "id": "ZE4X1IIJbMr5"
      }
    },
    {
      "cell_type": "markdown",
      "source": [
        "2.Explain the concept of function arguments and parameters in Python.\n",
        "\n",
        ">Concept of Functions :\n",
        ">1.  Parameters:\n",
        "\n",
        ">>Definition: Variables defined inside the function’s parentheses during its definition.\n",
        "\n",
        ">>Purpose: Act as placeholders to receive values when the function is called.\n",
        "\n",
        ">2. Arguments:\n",
        "\n",
        ">>Definition: The actual values or data passed to the function when calling it.\n",
        "\n",
        ">>Purpose: These are assigned to the parameters inside the function.\n",
        "\n",
        "Example:\n",
        "```\n",
        "# name and age are PARAMETERS\n",
        "def greet(name, age):\n",
        "    print(f\"Hello {name}, you are {age} years old.\")\n",
        "\n",
        "# \"Dev\" and 22 are ARGUMENTS\n",
        "greet(\"Dev\", 22)\n",
        "```\n",
        "\n"
      ],
      "metadata": {
        "id": "JWSUAFqthSc7"
      }
    },
    {
      "cell_type": "markdown",
      "source": [
        "3.What are the different ways to define and call a function in Python?\n",
        "\n",
        ">Different way to :\n",
        "\n",
        ">A.Defining a function :\n",
        ">1. Standard Function (using def):\n",
        "\n",
        "```\n",
        "def greet():\n",
        "    print(\"Hello!\")\n",
        "```\n",
        ">2. Function with Parameters:\n",
        "\n",
        "```\n",
        "def greet(name):\n",
        "    print(f\"Hello, {name}!\")\n",
        "```\n",
        ">3. Function with Default Parameters:\n",
        "\n",
        "```\n",
        "def greet(name=\"Guest\"):\n",
        "    print(f\"Hello, {name}!\")\n",
        "```\n",
        ">4. Variable-length Arguments (*args and **kwargs) :\n",
        "\n",
        "```\n",
        "def show_info(*args, **kwargs):\n",
        "    print(args)\n",
        "    print(kwargs)\n",
        "```\n",
        ">5. Lambda Function (Anonymous Function):\n",
        "\n",
        "```\n",
        "square = lambda x: x * x\n",
        "```\n",
        ">B.Calling a function:\n",
        "\n",
        ">1. Without Arguments:\n",
        "\n",
        "```\n",
        "greet()\n",
        "```\n",
        ">2. With Postional Arguments:\n",
        "\n",
        "```\n",
        "greet(\"Dev\")\n",
        "```\n",
        "\n",
        ">3. With Keyword Arguments\n",
        "\n",
        "```\n",
        "greet(name=\"Dev\")\n",
        "```\n",
        "\n",
        ">4. Unpacking Arguments:\n",
        "\n",
        "```\n",
        "data = (\"Dev\",)\n",
        "greet(*data)  # Unpacks tuple values\n",
        "\n",
        "details = {\"name\": \"Dev\"}\n",
        "greet(**details)  # Unpacks dictionary values\n",
        "```\n",
        "\n",
        ">5. Calling Lambda Function:\n",
        "\n",
        "```\n",
        "print(square(5))\n",
        "```\n",
        "\n",
        "\n",
        "\n",
        "\n",
        "\n",
        "\n",
        "\n",
        "\n",
        "\n",
        "\n",
        "\n",
        "\n",
        "\n"
      ],
      "metadata": {
        "id": "YwZEFi9thYAy"
      }
    },
    {
      "cell_type": "markdown",
      "source": [
        "4.What is the purpose of the `return` statement in a Python function?\n",
        "\n",
        ">The return statement in Python is used to send a value back from a function to the place where the function was called.\n",
        "\n",
        ">Purpose of return\n",
        ">1. Ends the function execution immediately.\n",
        "\n",
        ">2. Passes data from the function to the caller.\n",
        "\n",
        ">3. Allows you to store and use the function’s output later."
      ],
      "metadata": {
        "id": "Q2GQNdrqhby1"
      }
    },
    {
      "cell_type": "markdown",
      "source": [
        "5.What are iterators in Python and how do they differ from iterables?\n",
        "\n",
        ">1.Iterables:\n",
        "\n",
        ">>Definition: Objects capable of returning elements one at a time.\n",
        "\n",
        ">>Examples: Lists, tuples, strings, sets, dictionaries, ranges, etc.\n",
        "\n",
        ">>Requirement: Must have an __iter__() method.\n",
        "\n",
        "\n",
        "```\n",
        "my_list = [1, 2, 3]\n",
        "for num in my_list:  # my_list is iterable\n",
        "    print(num)\n",
        "```\n",
        "\n",
        ">2.Iterators:\n",
        "\n",
        ">>Definition: Objects that produce the next value of a sequence when requested.\n",
        "\n",
        ">>Examples: Objects returned by iter() function, file objects, generator objects.\n",
        "\n",
        ">>Requirement: Must have both:\n",
        "\n",
        ">>>__iter__() → returns the iterator object itself.\n",
        "\n",
        ">>>__next__() → returns the next item, raises StopIteration when no items are left.\n",
        "\n",
        "```\n",
        "my_list = [1, 2, 3]\n",
        "my_iter = iter(my_list)  # Convert iterable to iterator\n",
        "\n",
        "print(next(my_iter))  # 1\n",
        "print(next(my_iter))  # 2\n",
        "print(next(my_iter))  # 3\n",
        "# print(next(my_iter)) → StopIteration error\n",
        "```\n",
        "\n",
        "\n",
        "\n",
        "\n",
        "\n"
      ],
      "metadata": {
        "id": "HuvHWM08hgLA"
      }
    },
    {
      "cell_type": "markdown",
      "source": [
        "6.Explain the concept of generators in Python and how they are defined.\n",
        "\n",
        ">Generators:\n",
        ">>Definition: Generators are special iterators that are defined using a function with the yield keyword instead of return.\n",
        "\n",
        ">>Purpose: They allow you to produce values one at a time, on demand, without storing the entire sequence in memory.\n",
        "\n",
        ">>Nature: They are lazy iterators, meaning values are generated only when requested.\n",
        "\n",
        ">>Reason to use : memory efficient, infinite sequences, faster for large data.\n",
        "\n",
        ">>Define a Generator:\n",
        "\n",
        ">>1. Use the def keyword to define a function.\n",
        "\n",
        ">>2. Use yield instead of return.\n",
        "\n",
        ">>3. When called, the function returns a generator object, not a value.\n",
        "\n",
        "```\n",
        "#simple Generator example:\n",
        "\n",
        "def count_up_to(n):\n",
        "    count = 1\n",
        "    while count <= n:\n",
        "        yield count  # Produces a value and pauses\n",
        "        count += 1\n",
        "\n",
        "# Create generator object\n",
        "counter = count_up_to(3)\n",
        "\n",
        "print(next(counter))  # 1\n",
        "print(next(counter))  # 2\n",
        "print(next(counter))  # 3\n",
        "# print(next(counter)) → StopIteration\n",
        "```\n",
        "\n",
        "\n",
        "\n"
      ],
      "metadata": {
        "id": "0b7tiTuphjfs"
      }
    },
    {
      "cell_type": "markdown",
      "source": [
        "7.What are the advantages of using generators over regular functions?\n",
        "\n",
        ">Advantages of generators over regular function:\n",
        ">1. Memory Efficiency →\n",
        ">>Generators produce one item at a time instead of storing all results in memory, making them ideal for large datasets or infinite sequences.\n",
        "\n",
        ">2. Lazy Evaluation →\n",
        ">>Values are generated only when requested, which saves processing time and resources.\n",
        "\n",
        ">3. Infinite Sequences Support →\n",
        ">>Generators can represent endless streams (e.g., sensor readings, log files) without running out of memory.\n",
        "\n",
        ">4. Faster Start Time →\n",
        ">>Generators start producing output immediately without waiting for all calculations to finish.\n",
        "\n"
      ],
      "metadata": {
        "id": "wS7VGu9Vhmi0"
      }
    },
    {
      "cell_type": "markdown",
      "source": [
        "8.What is a lambda function in Python and when is it typically used?\n",
        "\n",
        ">A lambda function in Python is a small, anonymous function created using the lambda keyword.\n",
        "\n",
        ">>It can take multiple arguments but only has one expression whose result is returned.\n",
        "\n",
        ">>Syntax: lambda arguments: expression.\n",
        "\n",
        ">>They are typically used for short, quick tasks without defining a full function using def.\n",
        "\n",
        ">>Commonly used with functions like map(), filter(), and sorted().\n",
        "\n",
        ">>Example:\n",
        "```\n",
        "square = lambda x: x*x → square(5)\n",
        "```\n",
        "\n",
        "\n",
        "\n"
      ],
      "metadata": {
        "id": "DOJrx1O7hsKd"
      }
    },
    {
      "cell_type": "markdown",
      "source": [
        "9.Explain the purpose and usage of the `map()` function in Python.\n",
        "\n",
        ">The map() function in Python applies a given function to each item in an iterable (like list, tuple) and returns a map object (an iterator).\n",
        "\n",
        ">Its syntax is: map(function, iterable).\n",
        "\n",
        ">The function can be a normal def function or a lambda function.\n",
        "\n",
        ">You often wrap the result in list() or tuple() to see the values.\n",
        "\n",
        ">It is useful for performing transformations without writing explicit loops.\n",
        "\n",
        "Example:\n",
        "```\n",
        "list(map(lambda x: x*x, [1, 2, 3]))\n",
        "```\n",
        "\n"
      ],
      "metadata": {
        "id": "uHfF2_AKhwZB"
      }
    },
    {
      "cell_type": "markdown",
      "source": [
        "10.What is the difference between `map()`, `reduce()`, and `filter()` functions in Python?\n",
        "\n",
        ">1. map() → Applies a function to each element of an iterable.\n",
        "\n",
        ">>Returns an iterator with transformed elements.\n",
        "\n",
        ">2. filter() → Selects elements where the function returns True.\n",
        "\n",
        ">>Returns an iterator with only the filtered elements.\n",
        "\n",
        ">3. reduce() → Combines elements cumulatively using a function.\n",
        "\n",
        ">>Returns a single final result.\n",
        "\n",
        ">Example:\n",
        "\n",
        "\n",
        "```\n",
        "map(lambda x: x*2, [1,2,3])\n",
        "#output: [2,4,6]\n",
        "\n",
        "filter(lambda x: x>2, [1,2,3])\n",
        "#Output: [3]\n",
        "\n",
        "reduce(lambda x,y: x+y, [1,2,3])\n",
        "#Output: 6.\n",
        "```\n",
        "\n",
        "\n",
        "\n"
      ],
      "metadata": {
        "id": "NrtplWeKhz-3"
      }
    },
    {
      "cell_type": "markdown",
      "source": [
        "**11.Using pen & Paper write the internal mechanism for sum operation using reduce function on this given list:[47,11,42,13].**\n",
        "Here’s the handwritten content converted into clean **text form** for you:\n",
        "\n",
        "---\n",
        "\n",
        "### 11) Reduce function\n",
        "\n",
        "**Syn:** `reduce(func, iterable)`\n",
        "\n",
        "**Ex:**\n",
        "\n",
        "```python\n",
        "lst = [47, 11, 42, 13]   # using reduce function\n",
        "\n",
        "s = reduce(lambda x, y: x + y, lst)\n",
        "print(s)     # Output: 113\n",
        "```\n",
        "\n",
        "**Note:** The reduce gives cumulative sum of overall sum of the list elements.\n",
        "\n",
        "---\n",
        "\n",
        "### Internal mechanism:\n",
        "\n",
        "**Step 1:**\n",
        "`(47, 11, 42, 13)`\n",
        "→ take `x = 47`, `y = 11`\n",
        "→ result = `(58, 42, 13)`  (as x + y)\n",
        "\n",
        "**Step 2:**\n",
        "`(58, 42, 13)`\n",
        "→ take `x = 58`, `y = 42`\n",
        "→ result = `(100, 13)`  (as x + y)\n",
        "\n",
        "**Step 3:**\n",
        "`(100, 13)`\n",
        "→ take `x = 100`, `y = 13`\n",
        "→ result = `113` (as x + y)\n",
        "\n",
        "---\n",
        "\n",
        " **Final Output: 113**\n",
        "\n",
        "---\n"
      ],
      "metadata": {
        "id": "jbOTvCTnFjK4"
      }
    },
    {
      "cell_type": "markdown",
      "source": [
        "**Practical Question**"
      ],
      "metadata": {
        "id": "o9wFn_EZh8Oh"
      }
    },
    {
      "cell_type": "code",
      "execution_count": 7,
      "metadata": {
        "id": "OpB2R2pqapNQ",
        "colab": {
          "base_uri": "https://localhost:8080/"
        },
        "outputId": "6a5b5f43-d48a-47fa-eb90-4bbf8b201619"
      },
      "outputs": [
        {
          "output_type": "stream",
          "name": "stdout",
          "text": [
            "Sum of the list is : 91\n"
          ]
        }
      ],
      "source": [
        "#1.  Write a Python function that takes a list of numbers as input and returns the sum of all even numbers in the list\n",
        "\n",
        "def total(lst):\n",
        "  total_sum=0\n",
        "  for i in lst:\n",
        "    total_sum+=i\n",
        "  return total_sum\n",
        "\n",
        "lst=[11,2,3,2,6,67]\n",
        "ans=total(lst)\n",
        "print(\"Sum of the list is :\",ans)"
      ]
    },
    {
      "cell_type": "code",
      "source": [
        "#2. Create a Python function that accepts a string and returns the reverse of that string\n",
        "\n",
        "def reverse(string):\n",
        "  return string[::-1]\n",
        "\n",
        "\n",
        "string=input(\"Enter the string \")\n",
        "reverse_string=reverse(string)\n",
        "print(f\"Reverse of {string} is {reverse_string}\")"
      ],
      "metadata": {
        "colab": {
          "base_uri": "https://localhost:8080/"
        },
        "id": "U1Ehz6y9z1rE",
        "outputId": "d23a3c21-b1ac-43df-a303-5b1ab21bd1dc"
      },
      "execution_count": 8,
      "outputs": [
        {
          "output_type": "stream",
          "name": "stdout",
          "text": [
            "Enter the string dev\n",
            "Reverse of dev is ved\n"
          ]
        }
      ]
    },
    {
      "cell_type": "code",
      "source": [
        "#3. Implement a Python function that takes a list of integers and returns a new list containing the squares of each number.\n",
        "\n",
        "def square(lst):\n",
        "  new_lst=[]\n",
        "  for i in lst:\n",
        "    new_lst.append(i**2)\n",
        "  return new_lst\n",
        "\n",
        "lst=[1,2,3,4,5,6]\n",
        "new_lst=square(lst)\n",
        "print(f\"The square of numbers in {lst} is {new_lst}\")"
      ],
      "metadata": {
        "colab": {
          "base_uri": "https://localhost:8080/"
        },
        "id": "Gkc9b6qsz5P4",
        "outputId": "8f3e336e-95fd-4dba-95da-496a2480977e"
      },
      "execution_count": 9,
      "outputs": [
        {
          "output_type": "stream",
          "name": "stdout",
          "text": [
            "The square of numbers in [1, 2, 3, 4, 5, 6] is [1, 4, 9, 16, 25, 36]\n"
          ]
        }
      ]
    },
    {
      "cell_type": "code",
      "source": [
        "#4. Write a Python function that checks if a given number is prime or not from 1 to 200.\n",
        "from math import sqrt\n",
        "def primeNo(num):\n",
        "  if num==1 or num==0:\n",
        "    print(\"Not a prime number\")\n",
        "\n",
        "  for i in range(2,int(sqrt(num))+1):\n",
        "   if num%i==0:\n",
        "    return False\n",
        "\n",
        "  return True\n",
        "\n",
        "\n",
        "num=int(input(\"Enter a number between (1 to 200):\"))\n",
        "check=primeNo(num)\n",
        "print(f\"The {num} is a prime number : {check}\")\n"
      ],
      "metadata": {
        "colab": {
          "base_uri": "https://localhost:8080/"
        },
        "id": "LyGK9irQz8IO",
        "outputId": "07ff3fc1-404d-4adb-a746-b0ad1e6872df"
      },
      "execution_count": 10,
      "outputs": [
        {
          "output_type": "stream",
          "name": "stdout",
          "text": [
            "Enter a number between (1 to 200):66\n",
            "The 66 is a prime number : False\n"
          ]
        }
      ]
    },
    {
      "cell_type": "code",
      "source": [
        "#5.  Create an iterator class in Python that generates the Fibonacci sequence up to a specified number of terms.\n",
        "\n",
        "def fibonacci_generator(n_terms):\n",
        "\n",
        "    a, b = 0, 1  # Initialize the first two Fibonacci numbers\n",
        "    count = 0\n",
        "\n",
        "    while count < n_terms:\n",
        "        yield a  # Yield the current Fibonacci number\n",
        "        a, b = b, a + b  # Update to the next pair of Fibonacci numbers\n",
        "        count += 1\n",
        "\n",
        "fib_gen = fibonacci_generator(10)\n",
        "\n",
        "print(\"First 10 Fibonacci numbers:\")\n",
        "for num in fib_gen:\n",
        "    print(num, end=\" \")\n"
      ],
      "metadata": {
        "id": "TuLJMu0iz_pL",
        "colab": {
          "base_uri": "https://localhost:8080/"
        },
        "outputId": "4e6b74c5-6a11-4a51-a8a7-6fc3bf3688e5"
      },
      "execution_count": 11,
      "outputs": [
        {
          "output_type": "stream",
          "name": "stdout",
          "text": [
            "First 10 Fibonacci numbers:\n",
            "0 1 1 2 3 5 8 13 21 34 "
          ]
        }
      ]
    },
    {
      "cell_type": "code",
      "source": [
        "#6.  Write a generator function in Python that yields the powers of 2 up to a given exponent.\n",
        "\n",
        "def max_exponent(num):\n",
        "  for i in  range(0,num+1):\n",
        "    a=2**i\n",
        "    yield a\n",
        "\n",
        "\n",
        "num=int(input(\"Enter the power of exponent : \"))\n",
        "gen=max_exponent(num)\n",
        "\n",
        "for _ in range(num+1):\n",
        "    print(next(gen))"
      ],
      "metadata": {
        "id": "nS5JCThy0FoJ",
        "colab": {
          "base_uri": "https://localhost:8080/"
        },
        "outputId": "8b97c856-8943-4ded-f56b-1cab2768aa6a"
      },
      "execution_count": 12,
      "outputs": [
        {
          "output_type": "stream",
          "name": "stdout",
          "text": [
            "Enter the power of exponent : 4\n",
            "1\n",
            "2\n",
            "4\n",
            "8\n",
            "16\n"
          ]
        }
      ]
    },
    {
      "cell_type": "code",
      "source": [
        "#7.  Implement a generator function that reads a file line by line and yields each line as a string.\n",
        "\n",
        "def read_lines(file_content):\n",
        "    for line in file_content:\n",
        "        yield line.strip()  # remove any extra spaces/newlines\n",
        "\n",
        "# Simulated file content as a list of strings\n",
        "file = [\n",
        "    \"This is the first line\\n\",\n",
        "    \"This is the second line\\n\",\n",
        "    \"This is the third line\\n\"\n",
        "]\n",
        "\n",
        "# Using the generator\n",
        "for line in read_lines(file):\n",
        "    print(line)\n"
      ],
      "metadata": {
        "id": "gg_GH-X_0Idr",
        "colab": {
          "base_uri": "https://localhost:8080/"
        },
        "outputId": "6be6da2a-900c-4fc4-816b-a80ce27c54cb"
      },
      "execution_count": 13,
      "outputs": [
        {
          "output_type": "stream",
          "name": "stdout",
          "text": [
            "This is the first line\n",
            "This is the second line\n",
            "This is the third line\n"
          ]
        }
      ]
    },
    {
      "cell_type": "code",
      "source": [
        "#8. Use a lambda function in Python to sort a list of tuples based on the second element of each tuple.\n",
        "\n",
        "data = [(1, 0), (0, 2), (2, 8), (4, 1)]\n",
        "# Sort based on second element using lambda\n",
        "sorted_list = sorted(data, key=lambda x: x[1])\n",
        "print(\"Original List:\", data)\n",
        "print(\"Sorted List:\", sorted_list)"
      ],
      "metadata": {
        "id": "-EECljcK0MBx",
        "colab": {
          "base_uri": "https://localhost:8080/"
        },
        "outputId": "4add7d8b-0cc6-4a80-9cb9-6d0613790340"
      },
      "execution_count": 14,
      "outputs": [
        {
          "output_type": "stream",
          "name": "stdout",
          "text": [
            "Original List: [(1, 0), (0, 2), (2, 8), (4, 1)]\n",
            "Sorted List: [(1, 0), (4, 1), (0, 2), (2, 8)]\n"
          ]
        }
      ]
    },
    {
      "cell_type": "code",
      "source": [
        "#9. Write a Python program that uses `map()` to convert a list of temperatures from Celsius to Fahrenheit.\n",
        "\n",
        "\n",
        "celsius = [0, 20, 77, 100]\n",
        "\n",
        "# Using map() with lambda\n",
        "fahrenheit = list(map(lambda c: (c * 9/5) + 32, celsius))\n",
        "\n",
        "# Output the result\n",
        "print(\"Celsius:   \", celsius)\n",
        "print(\"Fahrenheit:\", fahrenheit)\n",
        "\n",
        "\n"
      ],
      "metadata": {
        "id": "aFVsj7RW0P2b",
        "colab": {
          "base_uri": "https://localhost:8080/"
        },
        "outputId": "1c19ccad-477e-416f-c21e-973a49246d0b"
      },
      "execution_count": 15,
      "outputs": [
        {
          "output_type": "stream",
          "name": "stdout",
          "text": [
            "Celsius:    [0, 20, 77, 100]\n",
            "Fahrenheit: [32.0, 68.0, 170.6, 212.0]\n"
          ]
        }
      ]
    },
    {
      "cell_type": "code",
      "source": [
        "#10. Create a Python program that uses `filter()` to remove all the vowels from a given string.\n",
        "\n",
        "string=input(\"enter the string :\")\n",
        "new_string=string.lower()\n",
        "\n",
        "vowels = ['a', 'e', 'i', 'o', 'u']\n",
        "filtered_string = ''.join(filter(lambda x: x not in vowels, new_string))\n",
        "\n",
        "print(\"Original string:\", string)\n",
        "print(\"Filtered string:\", filtered_string)"
      ],
      "metadata": {
        "id": "a3MI49Wk0TKa",
        "colab": {
          "base_uri": "https://localhost:8080/"
        },
        "outputId": "c43f899c-6686-40a1-831c-1367ffe87c23"
      },
      "execution_count": 16,
      "outputs": [
        {
          "output_type": "stream",
          "name": "stdout",
          "text": [
            "enter the string :dev\n",
            "Original string: dev\n",
            "Filtered string: dv\n"
          ]
        }
      ]
    },
    {
      "cell_type": "code",
      "source": [
        "#11.\n",
        "\n",
        "def process_orders(orders):\n",
        "    processed_orders = list(map(\n",
        "        lambda order: (order[0],(order[2] * order[3]) + 10 if order[0] < 100000 else (order[2] * order[3])),orders))\n",
        "    return processed_orders\n",
        "\n",
        "# Example data from the image\n",
        "book_orders = [\n",
        "    [34587, \"Learning Python, Mark Lutz\", 4, 490.95],\n",
        "    [98762, \"Programming Python, Mark Lutz\", 5, 07.80],\n",
        "    [77226, \"Head First Python, Paul Barry\", 3, 99.95],\n",
        "    [88112, \"Einführung in Python3, Bernd Klein\", 3, 24.99]\n",
        "]\n",
        "\n",
        "# Get the processed orders\n",
        "final_list = process_orders(book_orders)\n",
        "\n",
        "# Print the result\n",
        "print(\"(Oder number , total price(Quantity* price)):\",final_list)"
      ],
      "metadata": {
        "id": "bn1pbQQo0bK-",
        "colab": {
          "base_uri": "https://localhost:8080/"
        },
        "outputId": "661571da-266c-43c0-e1e2-013cc102b8b1"
      },
      "execution_count": 17,
      "outputs": [
        {
          "output_type": "stream",
          "name": "stdout",
          "text": [
            "(Oder number , total price(Quantity* price)): [(34587, 1973.8), (98762, 49.0), (77226, 309.85), (88112, 84.97)]\n"
          ]
        }
      ]
    }
  ]
}